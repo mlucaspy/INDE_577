{
 "cells": [
  {
   "cell_type": "markdown",
   "metadata": {},
   "source": [
    "# Deep Neural Network From Scratch\n",
    "## Dataset: A-Z Handwritten Alphabets\n",
    "\n",
    "The link for the dataset is [here](https://www.kaggle.com/datasets/sachinpatel21/az-handwritten-alphabets-in-csv-format)"
   ]
  },
  {
   "cell_type": "code",
   "execution_count": 138,
   "metadata": {},
   "outputs": [
    {
     "name": "stdout",
     "output_type": "stream",
     "text": [
      "Data Shape: (372450, 785)\n",
      "Data Max and Min: 255 0\n"
     ]
    }
   ],
   "source": [
    "import numpy as np\n",
    "import matplotlib.pyplot as plt\n",
    "import pandas as pd\n",
    "import seaborn as sns\n",
    "\n",
    "# Ignore warnings\n",
    "import warnings\n",
    "warnings.filterwarnings('ignore')\n",
    "\n",
    "# Read in data for analysis\n",
    "df = pd.read_csv('A_Z Handwritten Data.csv')\n",
    "\n",
    "# Check data shape\n",
    "print(\"Data Shape:\", df.shape)\n",
    "\n",
    "# Check data max and min\n",
    "print(\"Data Max and Min:\", df.max().max(), df.min().min())"
   ]
  },
  {
   "cell_type": "code",
   "execution_count": 142,
   "metadata": {},
   "outputs": [
    {
     "data": {
      "image/png": "[encoded data removed]",
      "text/plain": [
       "<Figure size 1152x576 with 1 Axes>"
      ]
     },
     "metadata": {},
     "output_type": "display_data"
    }
   ],
   "source": [
    "# Set default Seaborn theme\n",
    "sns.set()\n",
    "\n",
    "# Create a dataframe for the count of each letter\n",
    "letters = df['0'].value_counts()\n",
    "letters = pd.DataFrame(letters)\n",
    "letters = letters.reset_index()\n",
    "letters.columns = ['letter', 'count']\n",
    "\n",
    "# Replace the number with the letter with a lambda function\n",
    "letters['letter'] = letters['letter'].apply(lambda x: chr(x+65))\n",
    "\n",
    "# Reorder the letters\n",
    "letters = letters.sort_values(by='letter')\n",
    "\n",
    "# Plot the count of each letter\n",
    "plt.figure(figsize=(16, 8))\n",
    "sns.barplot(x='letter', y='count', data=letters)\n",
    "plt.title('Count of Each Letter')\n",
    "plt.show()"
   ]
  },
  {
   "cell_type": "code",
   "execution_count": 104,
   "metadata": {},
   "outputs": [],
   "source": [
    "## Step 1: Load and preprocess the dataset, separate for training and testing\n",
    "def load_data(file_path, percent_train=0.8):\n",
    "    df = pd.read_csv(file_path)\n",
    "    # Rearrange rows in random order\n",
    "    df = df.sample(frac=1).reset_index(drop=True)\n",
    "    # Assuming the first column is the label and the rest are pixel values\n",
    "    X = df.iloc[:, 1:].values / 255  # Normalizing pixel values\n",
    "    y = df.iloc[:, 0].values\n",
    "    # One-hot encoding, A-Z is 26 classes\n",
    "    y = one_hot_encode(y, num_classes=26)\n",
    "    # Splitting into training and testing sets\n",
    "    X_train = X[:int(percent_train * len(X))]\n",
    "    y_train = y[:int(percent_train * len(y))]\n",
    "    X_test = X[int(percent_train * len(X)):]\n",
    "    y_test = y[int(percent_train * len(y)):]\n",
    "    return X_train, y_train, X_test, y_test\n",
    "\n",
    "# One-hot encoding\n",
    "def one_hot_encode(y, num_classes):\n",
    "    one_hot = np.zeros((y.size, num_classes))\n",
    "    one_hot[np.arange(y.size), y] = 1\n",
    "    return one_hot\n",
    "\n",
    "# Decoding one-hot encoding to return a value from 0 to num_classes - 1\n",
    "def one_hot_decode(one_hot):\n",
    "    # Assuming the one-hot encoding is of shape (num_examples, num_classes)\n",
    "    # If only one example, reshape to (1, num_classes)\n",
    "    if len(one_hot.shape) == 1:\n",
    "        one_hot = one_hot.reshape((1, one_hot.shape[0]))\n",
    "    return np.argmax(one_hot, axis=1)\n",
    "\n",
    "# Assign the decoded value to a character from A-Z\n",
    "def assign_char(one_hot):\n",
    "    char = chr(ord('A') + int(one_hot_decode(one_hot)))\n",
    "    return char\n",
    "\n",
    "# Modified main function\n",
    "file_path = 'A_Z Handwritten Data.csv'\n",
    "X_train, y_train, X_test, y_test  = load_data(file_path, percent_train=0.8)"
   ]
  },
  {
   "cell_type": "code",
   "execution_count": 64,
   "metadata": {},
   "outputs": [
    {
     "data": {
      "image/png": "[encoded data removed]",
      "text/plain": [
       "<Figure size 432x288 with 1 Axes>"
      ]
     },
     "metadata": {
      "needs_background": "light"
     },
     "output_type": "display_data"
    },
    {
     "name": "stdout",
     "output_type": "stream",
     "text": [
      "Label: M\n"
     ]
    }
   ],
   "source": [
    "# Select a random image from the dataset and display it\n",
    "example = np.random.randint(0, X_train.shape[0])\n",
    "# Show the Image of the 28x28 pixel data stored in the 1D array of 784 first columns of the dataset\n",
    "plt.imshow(X_train[example].reshape((28, 28)), cmap='gray')\n",
    "plt.show()\n",
    "\n",
    "# Print the label of the image\n",
    "print(\"Label:\", assign_char(y_train[example]))\n"
   ]
  },
  {
   "cell_type": "code",
   "execution_count": 89,
   "metadata": {},
   "outputs": [],
   "source": [
    "## Step 2: Build a neural network with one hidden layer\n",
    "# Activation function: Sigmoid\n",
    "def sigmoid(x):\n",
    "    return 1 / (1 + np.exp(-x))\n",
    "\n",
    "# Derivative of sigmoid\n",
    "def sigmoid_derivative(x):\n",
    "    return sigmoid(x) * (1 - sigmoid(x))\n",
    "\n",
    "# Mean Squared Error Loss Function\n",
    "def mse_loss(y_true, y_pred):\n",
    "    return ((y_true - y_pred) ** 2).mean()\n",
    "\n",
    "# Neural Network Class\n",
    "class NeuralNetwork:\n",
    "    \"\"\" A neural network with two hidden layer\n",
    "\n",
    "    Parameters\n",
    "    ----------\n",
    "    input_size: int\n",
    "        Number of input neurons\n",
    "    hidden_size1: int\n",
    "        Number of hidden neurons in the first hidden layer\n",
    "    hidden_size2: int\n",
    "        Number of hidden neurons in the second hidden layer\n",
    "    output_size: int\n",
    "        Number of output neurons\n",
    "\n",
    "    Attributes\n",
    "    ----------\n",
    "    w1: 2d-array\n",
    "        First layer weights\n",
    "    w2: 2d-array\n",
    "        Second layer weights\n",
    "    w3: 2d-array\n",
    "        Third layer weights\n",
    "\n",
    "    \"\"\"\n",
    "    def __init__(self, input_size, hidden_size1, hidden_size2, output_size):\n",
    "        # Initialize weights and biases for two hidden layers and one output layer\n",
    "        self.w1 = np.random.randn(input_size, hidden_size1)\n",
    "        self.w2 = np.random.randn(hidden_size1, hidden_size2)\n",
    "        self.w3 = np.random.randn(hidden_size2, output_size)\n",
    "\n",
    "    def forward(self, X):\n",
    "        # Forward pass through two hidden layers\n",
    "        self.z1 = np.dot(X, self.w1)\n",
    "        self.a1 = sigmoid(self.z1)\n",
    "        self.z2 = np.dot(self.a1, self.w2)\n",
    "        self.a2 = sigmoid(self.z2)\n",
    "        self.z3 = np.dot(self.a2, self.w3)\n",
    "        self.a3 = sigmoid(self.z3)\n",
    "        return self.a3\n",
    "\n",
    "    def backprop(self, X, y, learning_rate):\n",
    "        # Compute gradients\n",
    "        a3_error = self.a3 - y\n",
    "        z3_delta = a3_error * sigmoid_derivative(self.z3)\n",
    "        a2_error = np.dot(z3_delta, self.w3.T)\n",
    "        z2_delta = a2_error * sigmoid_derivative(self.z2)\n",
    "        a1_error = np.dot(z2_delta, self.w2.T)\n",
    "        z1_delta = a1_error * sigmoid_derivative(self.z1)\n",
    "\n",
    "        # Update weights\n",
    "        self.w3 -= learning_rate * np.dot(self.a2.T, z3_delta)\n",
    "        self.w2 -= learning_rate * np.dot(self.a1.T, z2_delta)\n",
    "        self.w1 -= learning_rate * np.dot(X.T, z1_delta)\n",
    "\n",
    "    def train(self, X, y, epochs, learning_rate, batch_size):\n",
    "        # Initialize loss list\n",
    "        loss = []\n",
    "\n",
    "        for epoch in range(epochs):\n",
    "            # Batch training with Stochastic Gradient Descent: Mini-batch size = 26\n",
    "            # Randomly select 26 training examples and their labels\n",
    "            idx = np.random.randint(X.shape[0], size=batch_size)\n",
    "            X_batch = X[idx]\n",
    "            y_batch = y[idx]\n",
    "\n",
    "            # Forward propagation for each training example\n",
    "            output = self.forward(X_batch)\n",
    "            # Backpropagation for each training example\n",
    "            self.backprop(X_batch, y_batch, learning_rate)\n",
    "\n",
    "            # Calculate loss every 100 iterations, keep track of the loss\n",
    "            if epoch % 100 == 0:\n",
    "                if epoch == 0:\n",
    "                    prev_loss = mse_loss(y_batch, output)\n",
    "                else:\n",
    "                    prev_loss = loss[-1]\n",
    "                loss.append(mse_loss(y_batch, output))\n",
    "                # Print loss\n",
    "                print(\"Epoch:\", epoch, \"Loss:\", loss[-1])\n",
    "                # If there is no change in loss, stop training\n",
    "                if epoch > 0 and loss[-1] == prev_loss:\n",
    "                    print(\"Epoch:\", epoch, \"Loss:\", loss[-1], \"Prev Loss:\", prev_loss)\n",
    "                    print(\"No change in loss. Stop training.\")\n",
    "                    return loss\n",
    "                \n",
    "        return loss"
   ]
  },
  {
   "cell_type": "code",
   "execution_count": 109,
   "metadata": {},
   "outputs": [
    {
     "name": "stdout",
     "output_type": "stream",
     "text": [
      "Epoch: 0 Loss: 0.3545136524277124\n",
      "Epoch: 100 Loss: 0.036896729342478826\n",
      "Epoch: 200 Loss: 0.03273717742922301\n",
      "Epoch: 300 Loss: 0.030648948009301003\n",
      "Epoch: 400 Loss: 0.030461164764203668\n",
      "Epoch: 500 Loss: 0.029369626716661962\n",
      "Epoch: 600 Loss: 0.029318919523338052\n",
      "Epoch: 700 Loss: 0.030182624546123058\n",
      "Epoch: 800 Loss: 0.03052033023842913\n",
      "Epoch: 900 Loss: 0.028199871859024478\n",
      "Epoch: 1000 Loss: 0.02405577432668581\n",
      "Epoch: 1100 Loss: 0.02670186093120374\n",
      "Epoch: 1200 Loss: 0.02289281039324983\n",
      "Epoch: 1300 Loss: 0.025186439592135595\n",
      "Epoch: 1400 Loss: 0.029116546927505958\n",
      "Epoch: 1500 Loss: 0.024835276104750854\n",
      "Epoch: 1600 Loss: 0.0234437556770718\n",
      "Epoch: 1700 Loss: 0.023199328895570935\n",
      "Epoch: 1800 Loss: 0.025144696178907532\n",
      "Epoch: 1900 Loss: 0.023999527025756792\n",
      "Epoch: 2000 Loss: 0.024377568590142413\n",
      "Epoch: 2100 Loss: 0.024692768168697227\n",
      "Epoch: 2200 Loss: 0.025198122873041653\n",
      "Epoch: 2300 Loss: 0.02563236266695679\n",
      "Epoch: 2400 Loss: 0.024053923267886447\n",
      "Epoch: 2500 Loss: 0.02344912679755913\n",
      "Epoch: 2600 Loss: 0.022164222238731154\n",
      "Epoch: 2700 Loss: 0.02358049167801308\n",
      "Epoch: 2800 Loss: 0.0214043070811462\n",
      "Epoch: 2900 Loss: 0.025579094317738152\n",
      "Epoch: 3000 Loss: 0.021565169330003044\n",
      "Epoch: 3100 Loss: 0.027101080830941884\n",
      "Epoch: 3200 Loss: 0.01928868736371888\n",
      "Epoch: 3300 Loss: 0.025683769005531463\n",
      "Epoch: 3400 Loss: 0.02013978737718624\n",
      "Epoch: 3500 Loss: 0.02171800905059586\n",
      "Epoch: 3600 Loss: 0.02027815667428397\n",
      "Epoch: 3700 Loss: 0.022403290169389897\n",
      "Epoch: 3800 Loss: 0.021017941690617426\n",
      "Epoch: 3900 Loss: 0.021703894587616443\n",
      "Epoch: 4000 Loss: 0.020706642036366855\n",
      "Epoch: 4100 Loss: 0.022026142217236592\n",
      "Epoch: 4200 Loss: 0.022067735340758857\n",
      "Epoch: 4300 Loss: 0.021774909111989746\n",
      "Epoch: 4400 Loss: 0.018001254729818814\n",
      "Epoch: 4500 Loss: 0.019614655707212877\n",
      "Epoch: 4600 Loss: 0.01841057358431896\n",
      "Epoch: 4700 Loss: 0.021580771291149884\n",
      "Epoch: 4800 Loss: 0.02092956707225989\n",
      "Epoch: 4900 Loss: 0.021850380606705647\n",
      "Epoch: 5000 Loss: 0.02110860993415166\n",
      "Epoch: 5100 Loss: 0.017614443254302465\n",
      "Epoch: 5200 Loss: 0.014422525133562467\n",
      "Epoch: 5300 Loss: 0.022542890507090657\n",
      "Epoch: 5400 Loss: 0.02058102270899479\n",
      "Epoch: 5500 Loss: 0.020342760803014302\n",
      "Epoch: 5600 Loss: 0.017438853790596856\n",
      "Epoch: 5700 Loss: 0.01865119366690685\n",
      "Epoch: 5800 Loss: 0.019924333303486287\n",
      "Epoch: 5900 Loss: 0.02207099806311281\n",
      "Epoch: 6000 Loss: 0.019075338500705356\n",
      "Epoch: 6100 Loss: 0.016584155147899193\n",
      "Epoch: 6200 Loss: 0.02105571206435786\n",
      "Epoch: 6300 Loss: 0.018500329827859357\n",
      "Epoch: 6400 Loss: 0.018792054953810415\n",
      "Epoch: 6500 Loss: 0.016789933705663382\n",
      "Epoch: 6600 Loss: 0.021626280465006045\n",
      "Epoch: 6700 Loss: 0.018821725204189156\n",
      "Epoch: 6800 Loss: 0.01837825167648201\n",
      "Epoch: 6900 Loss: 0.02207862951644018\n",
      "Epoch: 7000 Loss: 0.020018678446517526\n",
      "Epoch: 7100 Loss: 0.018783023652258837\n",
      "Epoch: 7200 Loss: 0.019838831353803606\n",
      "Epoch: 7300 Loss: 0.017979903910917073\n",
      "Epoch: 7400 Loss: 0.01667413574380991\n",
      "Epoch: 7500 Loss: 0.01889751630216051\n",
      "Epoch: 7600 Loss: 0.013824862005937797\n",
      "Epoch: 7700 Loss: 0.019813107757203272\n",
      "Epoch: 7800 Loss: 0.01824144476079151\n",
      "Epoch: 7900 Loss: 0.019895926051206474\n",
      "Epoch: 8000 Loss: 0.017227900142892147\n",
      "Epoch: 8100 Loss: 0.016193673619438687\n",
      "Epoch: 8200 Loss: 0.018654682121974707\n",
      "Epoch: 8300 Loss: 0.017735815857883724\n",
      "Epoch: 8400 Loss: 0.02041111675206232\n",
      "Epoch: 8500 Loss: 0.01852278787313674\n",
      "Epoch: 8600 Loss: 0.0169617403224073\n",
      "Epoch: 8700 Loss: 0.01681606928729065\n",
      "Epoch: 8800 Loss: 0.01800630911003334\n",
      "Epoch: 8900 Loss: 0.017620260834886936\n",
      "Epoch: 9000 Loss: 0.017285535372248733\n",
      "Epoch: 9100 Loss: 0.018663575222946968\n",
      "Epoch: 9200 Loss: 0.01807403658844787\n",
      "Epoch: 9300 Loss: 0.013881435276500894\n",
      "Epoch: 9400 Loss: 0.016481976112542485\n",
      "Epoch: 9500 Loss: 0.017232342238112437\n",
      "Epoch: 9600 Loss: 0.01802658217783354\n",
      "Epoch: 9700 Loss: 0.017475117209320712\n",
      "Epoch: 9800 Loss: 0.013524390391231813\n",
      "Epoch: 9900 Loss: 0.014059243663730498\n"
     ]
    }
   ],
   "source": [
    "## Step 3: Train the neural network\n",
    "input_size = X_train.shape[1]\n",
    "hidden_size1 = 64 # You can change this\n",
    "hidden_size2 = 32 # You can change this\n",
    "output_size = y_train.shape[1]\n",
    "\n",
    "nn = NeuralNetwork(input_size, hidden_size1, hidden_size2, output_size)\n",
    "loss = nn.train(X_train, y_train, epochs=10000, learning_rate=0.01, batch_size=100)\n"
   ]
  },
  {
   "cell_type": "code",
   "execution_count": 110,
   "metadata": {},
   "outputs": [
    {
     "data": {
      "image/png": "[encoded data removed]",
      "text/plain": [
       "<Figure size 432x288 with 1 Axes>"
      ]
     },
     "metadata": {
      "needs_background": "light"
     },
     "output_type": "display_data"
    }
   ],
   "source": [
    "# Plot loss vs epochs\n",
    "plt.plot(loss)\n",
    "plt.xlabel(\"Epoch x100\")\n",
    "plt.ylabel(\"Loss\")\n",
    "plt.title(\"Loss vs Epoch\")\n",
    "plt.show()\n"
   ]
  },
  {
   "cell_type": "code",
   "execution_count": 111,
   "metadata": {},
   "outputs": [
    {
     "name": "stdout",
     "output_type": "stream",
     "text": [
      "Predicted: U Actual: U\n",
      "Predicted: D Actual: U\n",
      "Predicted: U Actual: H\n",
      "Predicted: T Actual: T\n",
      "Predicted: D Actual: J\n",
      "Predicted: E Actual: H\n",
      "Predicted: S Actual: S\n",
      "Predicted: R Actual: B\n",
      "Predicted: O Actual: O\n",
      "Predicted: A Actual: A\n"
     ]
    }
   ],
   "source": [
    "# Predicting 10 random samples and comparing with actual labels\n",
    "for i in range(10):\n",
    "    index = np.random.randint(0, X_test.shape[0])\n",
    "    pred = nn.forward(X_test[index])\n",
    "    print(\"Predicted:\", assign_char(pred), \"Actual:\", assign_char(y_test[index]))"
   ]
  },
  {
   "cell_type": "code",
   "execution_count": 112,
   "metadata": {},
   "outputs": [
    {
     "name": "stdout",
     "output_type": "stream",
     "text": [
      "Accuracy on test set: 0.6551214928178279\n"
     ]
    }
   ],
   "source": [
    "# Calculate accuracy on test set\n",
    "pred = nn.forward(X_test)\n",
    "pred = one_hot_decode(pred)\n",
    "y_test = one_hot_decode(y_test)\n",
    "acc = np.mean(pred == y_test)\n",
    "print(\"Accuracy on test set:\", acc)"
   ]
  }
 ],
 "metadata": {
  "kernelspec": {
   "display_name": "Python 3.10.5",
   "language": "python",
   "name": "python3"
  },
  "language_info": {
   "codemirror_mode": {
    "name": "ipython",
    "version": 3
   },
   "file_extension": ".py",
   "mimetype": "text/x-python",
   "name": "python",
   "nbconvert_exporter": "python",
   "pygments_lexer": "ipython3",
   "version": "3.11.5"
  },
  "vscode": {
   "interpreter": {
    "hash": "60d347b1b00434e3109b3f59c5a731168507f4d33f1c02fc1f75d9db6931c10a"
   }
  }
 },
 "nbformat": 4,
 "nbformat_minor": 4
}
