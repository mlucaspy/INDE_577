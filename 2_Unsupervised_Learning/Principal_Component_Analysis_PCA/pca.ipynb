{
 "cells": [
  {
   "cell_type": "markdown",
   "metadata": {},
   "source": [
    "# Principal Component Analysis (PCA) for Data Visualization\n",
    "## Dataset: Regensburg Pediatric Appendicitis\n",
    "\n",
    "The link to the dataset is [here](https://archive.ics.uci.edu/dataset/938/regensburg+pediatric+appendicitis)."
   ]
  },
  {
   "cell_type": "code",
   "execution_count": 75,
   "metadata": {},
   "outputs": [
    {
     "name": "stdout",
     "output_type": "stream",
     "text": [
      "                                name     role         type demographic  \\\n",
      "0                                Age  Feature   Continuous         Age   \n",
      "1                                BMI  Feature   Continuous        None   \n",
      "2                                Sex  Feature  Categorical         Sex   \n",
      "3                             Height  Feature   Continuous        None   \n",
      "4                             Weight  Feature      Integer        None   \n",
      "5                     Length_of_Stay  Feature      Integer        None   \n",
      "6                         Management   Target  Categorical        None   \n",
      "7                           Severity   Target  Categorical        None   \n",
      "8              Diagnosis_Presumptive    Other       Binary        None   \n",
      "9                          Diagnosis   Target       Binary        None   \n",
      "10                    Alvarado_Score  Feature      Integer        None   \n",
      "11     Paedriatic_Appendicitis_Score  Feature      Integer        None   \n",
      "12                    Appendix_on_US  Feature       Binary        None   \n",
      "13                 Appendix_Diameter  Feature      Integer        None   \n",
      "14                    Migratory_Pain  Feature       Binary        None   \n",
      "15              Lower_Right_Abd_Pain  Feature       Binary        None   \n",
      "16  Contralateral_Rebound_Tenderness  Feature       Binary        None   \n",
      "17                     Coughing_Pain  Feature       Binary        None   \n",
      "18                            Nausea  Feature       Binary        None   \n",
      "19                  Loss_of_Appetite  Feature       Binary        None   \n",
      "20                  Body_Temperature  Feature   Continuous        None   \n",
      "21                         WBC_Count  Feature   Continuous        None   \n",
      "22             Neutrophil_Percentage  Feature      Integer        None   \n",
      "23             Segmented_Neutrophils  Feature      Integer        None   \n",
      "24                      Neutrophilia  Feature  Categorical        None   \n",
      "25                         RBC_Count  Feature   Continuous        None   \n",
      "26                        Hemoglobin  Feature   Continuous        None   \n",
      "27                               RDW  Feature   Continuous        None   \n",
      "28                 Thrombocyte_Count  Feature      Integer        None   \n",
      "29                  Ketones_in_Urine  Feature  Categorical        None   \n",
      "30                      RBC_in_Urine  Feature  Categorical        None   \n",
      "31                      WBC_in_Urine  Feature  Categorical        None   \n",
      "32                               CRP  Feature      Integer        None   \n",
      "33                           Dysuria  Feature       Binary        None   \n",
      "34                             Stool  Feature  Categorical        None   \n",
      "35                       Peritonitis  Feature  Categorical        None   \n",
      "36                        Psoas_Sign  Feature  Categorical        None   \n",
      "37    Ipsilateral_Rebound_Tenderness  Feature  Categorical        None   \n",
      "38                      US_Performed  Feature  Categorical        None   \n",
      "39                         US_Number  Feature      Integer        None   \n",
      "40                       Free_Fluids  Feature  Categorical        None   \n",
      "41              Appendix_Wall_Layers  Feature  Categorical        None   \n",
      "42                       Target_Sign  Feature  Categorical        None   \n",
      "43                     Appendicolith  Feature  Categorical        None   \n",
      "44                         Perfusion  Feature  Categorical        None   \n",
      "45                       Perforation  Feature  Categorical        None   \n",
      "46       Surrounding_Tissue_Reaction  Feature  Categorical        None   \n",
      "47              Appendicular_Abscess  Feature  Categorical        None   \n",
      "48                  Abscess_Location  Feature  Categorical        None   \n",
      "49          Pathological_Lymph_Nodes  Feature       Binary        None   \n",
      "50              Lymph_Nodes_Location  Feature  Categorical        None   \n",
      "51             Bowel_Wall_Thickening  Feature       Binary        None   \n",
      "52       Conglomerate_of_Bowel_Loops  Feature       Binary        None   \n",
      "53                             Ileus  Feature  Categorical        None   \n",
      "54                       Coprostasis  Feature  Categorical        None   \n",
      "55                         Meteorism  Feature  Categorical        None   \n",
      "56                         Enteritis  Feature  Categorical        None   \n",
      "57            Gynecological_Findings  Feature  Categorical        None   \n",
      "\n",
      "                                          description  units missing_values  \n",
      "0                     Obtained from the date of birth  years            yes  \n",
      "1   Measures body fat; patient's weight divided by...   None            yes  \n",
      "2                                   Registered gender   None            yes  \n",
      "3                                    Patient's height   None            yes  \n",
      "4                                    Patient's weight   None            yes  \n",
      "5                  Length of the stay in the hospital   None            yes  \n",
      "6   (conservative, primary surgical, secondary sur...   None            yes  \n",
      "7   (uncomplicated, complicated) Severity of appen...   None            yes  \n",
      "8                       Patient's suspected diagnosis   None            yes  \n",
      "9   Patient's diagnosis, histologically confirmed ...   None            yes  \n",
      "10    Patient's score according to the scoring system   None            yes  \n",
      "11    Patient's score according to the scoring system   None            yes  \n",
      "12  Detectability of the vermiform appendix during...   None            yes  \n",
      "13             Maximal outer diameter of the appendix   None            yes  \n",
      "14  Abdominal pain; usually starts in epigastrium ...   None            yes  \n",
      "15       Right iliac fossa pain detected on palpation   None            yes  \n",
      "16  A state in which pain of the contralateral sid...   None            yes  \n",
      "17                     Abdominal pain by forced cough   None            yes  \n",
      "18  Feeling of sickness/ejection of contents from ...   None            yes  \n",
      "19                                               None   None            yes  \n",
      "20  Measured by a thermometer placed in the rectum...   None            yes  \n",
      "21  The number of leucocytes in a unit volume of b...   None            yes  \n",
      "22              Mature WBC in the granulocytic series   None            yes  \n",
      "23  Most mature neutrophilic granulocytes present ...   None            yes  \n",
      "24  Relative neutrophilic leucocytosis, often a re...   None            yes  \n",
      "25  The number of erythrocytes in a unit volume of...   None            yes  \n",
      "26  Hemoglobin level; a red protein in the red blo...   None            yes  \n",
      "27  A blood test that measures the differences in ...   None            yes  \n",
      "28  The number of platelets in a unit volume of blood   None            yes  \n",
      "29  Presence of ketone bodies in urine, e.g. in ca...   None            yes  \n",
      "30                                     Blood in urine   None            yes  \n",
      "31    Leucocytes in urine, e.g., in case of infection   None            yes  \n",
      "32  Protein produced by the liver, elevated in cas...   None            yes  \n",
      "33          Pain or other difficulty during urination   None            yes  \n",
      "34                 Characteristics of bowel movements   None            yes  \n",
      "35  Spasm of abdominal wall muscles detected on pa...   None            yes  \n",
      "36    Abdominal pain produced by extension of the hip   None            yes  \n",
      "37  A state in which pain of the ipsilateral side ...   None            yes  \n",
      "38  If an abdominal ultrasonography was performed ...   None            yes  \n",
      "39                                               None   None            yes  \n",
      "40                     Free fluids inside the abdomen   None            yes  \n",
      "41  Distribution and characteristics of appendix l...   None            yes  \n",
      "42  Axial image of appendix with a fluid-filled ce...   None            yes  \n",
      "43  Presence of fecalith in the appendix, e.g. aco...   None            yes  \n",
      "44                    Blood flow to the appendix wall   None            yes  \n",
      "45                Signs of appendix perforation in US   None            yes  \n",
      "46  Inflammation signs in tissue (i.a. in omentum/...   None            yes  \n",
      "47                                   Appendiceal mass   None            yes  \n",
      "48             Location of the abcess intraperitoneal   None            yes  \n",
      "49  Enlarged and inflamed intra-abdominal lymph nodes   None            yes  \n",
      "50  The location of pathological lymph nodes in th...   None            yes  \n",
      "51  Edema of the intestinal wall, > 2-3 mm for sma...   None            yes  \n",
      "52  Small intestine conglomerate as sign of intrap...   None            yes  \n",
      "53  Sonographic signs of paralytic ileus (e.g., di...   None            yes  \n",
      "54                       Fecal impaction in the colon   None            yes  \n",
      "55               Accumulation of gas in the intestine   None            yes  \n",
      "56  Sonographic features of gastroenteritis, e.g. ...   None            yes  \n",
      "57  Gynaecological abnormalities, e.g. cysts, ovar...   None            yes  \n"
     ]
    }
   ],
   "source": [
    "import matplotlib.pyplot as plt\n",
    "import numpy as np\n",
    "import pandas as pd\n",
    "import seaborn as sns\n",
    "\n",
    "# Ignore warnings\n",
    "import warnings\n",
    "warnings.filterwarnings(\"ignore\")\n",
    "\n",
    "sns.set_theme()\n",
    "\n",
    "# Dateset\n",
    "from ucimlrepo import fetch_ucirepo \n",
    "# fetch dataset \n",
    "regensburg_pediatric_appendicitis = fetch_ucirepo(id=938) \n",
    "  \n",
    "# data (as pandas dataframes) \n",
    "X = regensburg_pediatric_appendicitis.data.features \n",
    "y = regensburg_pediatric_appendicitis.data.targets \n",
    "  \n",
    "# variable information \n",
    "print(regensburg_pediatric_appendicitis.variables)\n"
   ]
  },
  {
   "cell_type": "code",
   "execution_count": 76,
   "metadata": {},
   "outputs": [
    {
     "name": "stdout",
     "output_type": "stream",
     "text": [
      "(782, 148)\n",
      "(782, 148)\n"
     ]
    }
   ],
   "source": [
    "# Data Cleaning\n",
    "# All Catagorical Features are converted into numerical features\n",
    "# All the missing values are filled with mean of the column\n",
    "# All the values are normalized between 0 and 1\n",
    "# All the columns are converted into float type\n",
    "\n",
    "# Convert all the catagorical features into numerical features\n",
    "X = pd.get_dummies(X)\n",
    "y = pd.get_dummies(y)\n",
    "\n",
    "# Fill all the missing values with mean of the column\n",
    "X.fillna(X.mean(), inplace=True)\n",
    "\n",
    "# Assuming 'df' is your DataFrame\n",
    "print(X.shape)\n",
    "\n",
    "# Normalize all the values between 0 and 1\n",
    "from sklearn.preprocessing import MinMaxScaler\n",
    "scaler = MinMaxScaler()\n",
    "X = pd.DataFrame(scaler.fit_transform(X), columns=X.columns)\n",
    "\n",
    "# Convert all the columns into float type\n",
    "X = X.astype(float)\n",
    "\n",
    "# Assuming 'df' is your DataFrame\n",
    "print(X.shape)"
   ]
  },
  {
   "cell_type": "code",
   "execution_count": 77,
   "metadata": {},
   "outputs": [
    {
     "data": {
      "image/png": "[encoded data removed]",
      "text/plain": [
       "<Figure size 720x576 with 1 Axes>"
      ]
     },
     "metadata": {},
     "output_type": "display_data"
    }
   ],
   "source": [
    "# Analysis of the Components\n",
    "from sklearn.decomposition import PCA\n",
    "pca = PCA()\n",
    "pca.fit(X)\n",
    "\n",
    "# Plotting the Cumulative Summation of the Explained Variance\n",
    "plt.figure(figsize=(10,8))\n",
    "plt.plot(np.cumsum(pca.explained_variance_ratio_))\n",
    "plt.xlabel('Number of Components')\n",
    "plt.ylabel('Variance (%)') #for each component\n",
    "plt.title('Regensburg Pediatric Appendicitis Dataset Explained Variance')\n",
    "plt.show()"
   ]
  },
  {
   "cell_type": "code",
   "execution_count": 78,
   "metadata": {},
   "outputs": [
    {
     "data": {
      "image/png": "[encoded data removed]",
      "text/plain": [
       "<Figure size 720x576 with 1 Axes>"
      ]
     },
     "metadata": {},
     "output_type": "display_data"
    }
   ],
   "source": [
    "# Plot the percentage of variance explained by each component.\n",
    "plt.figure(figsize=(10,8))\n",
    "plt.bar(range(1, pca.n_components_+1), pca.explained_variance_ratio_)\n",
    "plt.xlabel('Principal Component')\n",
    "plt.ylabel('Explained Variance')\n",
    "plt.title('Regensburg Pediatric Appendicitis Dataset Explained Variance')\n",
    "plt.show()\n"
   ]
  },
  {
   "cell_type": "code",
   "execution_count": 79,
   "metadata": {},
   "outputs": [
    {
     "name": "stdout",
     "output_type": "stream",
     "text": [
      "Shape of X: (782, 148)\n",
      "Shape of transformed X: (782, 52)\n"
     ]
    }
   ],
   "source": [
    "import numpy as np\n",
    "\n",
    "class PCA_df:\n",
    "    \"\"\"\n",
    "    A simple PCA implementation that can be used with Pandas DataFrames.\n",
    "\n",
    "    Parameters\n",
    "    ----------\n",
    "    n_components : int or float\n",
    "        Number of components to keep. If float, it represents the ratio of variance explained by the components.\n",
    "\n",
    "    Attributes\n",
    "    ----------\n",
    "    n_components : int\n",
    "        Number of components to keep.\n",
    "    components : numpy array\n",
    "        Principal components.\n",
    "    mean : numpy array\n",
    "        Mean of the data.\n",
    "    \"\"\"    \n",
    "    def __init__(self, n_components):\n",
    "        self.n_components = n_components\n",
    "        self.components = None\n",
    "        self.mean = None\n",
    "\n",
    "    def fit(self, X):\n",
    "        # Mean centering\n",
    "        self.mean = np.mean(X, axis=0)\n",
    "        X_centered = X - self.mean\n",
    "\n",
    "        # Covariance matrix (function needs samples as columns)\n",
    "        cov = np.cov(X_centered.T)\n",
    "\n",
    "        # Eigenvalues and eigenvectors\n",
    "        eigenvalues, eigenvectors = np.linalg.eig(cov)\n",
    "\n",
    "        # Sort eigenvectors by eigenvalues in descending order\n",
    "        idxs = np.argsort(eigenvalues)[::-1]\n",
    "        eigenvalues = eigenvalues[idxs]\n",
    "        eigenvectors = eigenvectors[:, idxs]\n",
    "\n",
    "        # Calculate the number of components if n_components is a ratio\n",
    "        if isinstance(self.n_components, float):\n",
    "            cum_var_explained = np.cumsum(eigenvalues) / np.sum(eigenvalues)\n",
    "            self.n_components = np.argmax(cum_var_explained >= self.n_components) + 1\n",
    "\n",
    "        # Store first n eigenvectors\n",
    "        self.components = eigenvectors[:, :self.n_components]\n",
    "\n",
    "    def transform(self, X):\n",
    "        # Project data\n",
    "        X_centered = X - self.mean\n",
    "        return np.dot(X_centered, self.components)\n",
    "\n",
    "# Example usage\n",
    "# Assuming 'X' is your data matrix\n",
    "pca_df = PCA_df(n_components=0.95)\n",
    "pca_df.fit(X)\n",
    "X_projected = pca_df.transform(X)\n",
    "\n",
    "print('Shape of X:', X.shape)\n",
    "print('Shape of transformed X:', X_projected.shape)\n"
   ]
  },
  {
   "cell_type": "code",
   "execution_count": 80,
   "metadata": {},
   "outputs": [
    {
     "name": "stdout",
     "output_type": "stream",
     "text": [
      "Accuracy before PCA:  0.6\n",
      "Accuracy after PCA:  0.574468085106383\n"
     ]
    }
   ],
   "source": [
    "# KNN before PCA and after PCA\n",
    "from sklearn.neighbors import KNeighborsClassifier\n",
    "from sklearn.model_selection import train_test_split\n",
    "from sklearn.metrics import accuracy_score\n",
    "\n",
    "# Split the data into train and test\n",
    "X_train, X_test, y_train, y_test = train_test_split(X, y, test_size=0.3)\n",
    "\n",
    "# KNN before PCA\n",
    "knn = KNeighborsClassifier(n_neighbors=3)\n",
    "knn.fit(X_train, y_train)\n",
    "y_pred = knn.predict(X_test)\n",
    "print(\"Accuracy before PCA: \", accuracy_score(y_test, y_pred))\n",
    "\n",
    "# Split the data into train and test\n",
    "X_train, X_test, y_train, y_test = train_test_split(X_projected, y, test_size=0.3)\n",
    "\n",
    "# KNN after PCA\n",
    "knn = KNeighborsClassifier(n_neighbors=3)\n",
    "knn.fit(X_train, y_train)\n",
    "y_pred = knn.predict(X_test)\n",
    "print(\"Accuracy after PCA: \", accuracy_score(y_test, y_pred))\n"
   ]
  }
 ],
 "metadata": {
  "interpreter": {
   "hash": "40d3a090f54c6569ab1632332b64b2c03c39dcf918b08424e98f38b5ae0af88f"
  },
  "kernelspec": {
   "display_name": "Python 3.8.5 ('base')",
   "language": "python",
   "name": "python3"
  },
  "language_info": {
   "codemirror_mode": {
    "name": "ipython",
    "version": 3
   },
   "file_extension": ".py",
   "mimetype": "text/x-python",
   "name": "python",
   "nbconvert_exporter": "python",
   "pygments_lexer": "ipython3",
   "version": "3.11.5"
  },
  "orig_nbformat": 4
 },
 "nbformat": 4,
 "nbformat_minor": 2
}
